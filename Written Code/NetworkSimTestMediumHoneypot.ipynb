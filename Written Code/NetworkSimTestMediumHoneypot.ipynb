{
 "cells": [
  {
   "cell_type": "code",
   "execution_count": null,
   "id": "fcd37c83-b4d0-4b43-b8a1-f563824da2cc",
   "metadata": {},
   "outputs": [],
   "source": [
    "import numpy as np\n",
    "import random\n",
    "import torch\n",
    "\n",
    "import nasim\n",
    "from nasim.agents.dqn_agent import *\n",
    "\n",
    "seed = 100\n",
    "\n",
    "random.seed(seed)\n",
    "\n",
    "np.random.seed(seed)\n",
    "\n",
    "torch.manual_seed(seed)\n",
    "torch.cuda.manual_seed(seed)\n",
    "torch.cuda.manual_seed_all(seed)\n",
    "torch.backends.cudnn.deterministic = True\n",
    "torch.backends.cudnn.benchmark = False\n",
    "\n",
    "env = nasim.load(\"/home/kali/NetworkAttackSimulator/Experiments/medium_with_honeypot.yaml\",fully_obs=True,flat_actions=True,flat_obs=True,render_mode=\"human\")\n",
    "dqn_agent = DQNAgent(env,\n",
    "                 seed=100,\n",
    "                 hidden_sizes=[256, 256],\n",
    "                 verbose=False)\n",
    "\n",
    "dqn_agent.load(\"/home/kali/NetworkAttackSimulator/Experiments/dqn_medium_with_honeypot.pt\")\n",
    "ret, steps, goal = dqn_agent.run_eval_episode(env, False, 0.01, \"human\")\n",
    "print(goal)\n",
    "print(steps)\n",
    "print(ret)"
   ]
  },
  {
   "cell_type": "code",
   "execution_count": null,
   "id": "6c10efad-c27f-4b17-a12a-e24a0eaf86ef",
   "metadata": {},
   "outputs": [],
   "source": [
    "import nasim\n",
    "import numpy as np\n",
    "\n",
    "env = nasim.load(\"/home/kali/NetworkAttackSimulator/Experiments/medium_with_honeypot.yaml\",\n",
    "                 fully_obs=True, flat_actions=True, flat_obs=True, render_mode=\"human\")\n",
    "\n",
    "env.reset()\n",
    "total_reward = 0\n",
    "done = False\n",
    "env_step_limit_reached = False\n",
    "t = 0\n",
    "step_limit = 100_000\n",
    "\n",
    "while not done and not env_step_limit_reached and t < step_limit:\n",
    "    a = env.action_space.sample()\n",
    "    if not isinstance(a, int):\n",
    "        a = int(a)\n",
    "    _, r, done, env_step_limit_reached, _ = env.step(a)\n",
    "    total_reward += r\n",
    "    t += 1\n",
    "\n",
    "print(\"Steps:\", t)\n",
    "print(\"Total reward:\", total_reward)\n",
    "print(\"Goal reached:\", env.goal_reached())\n"
   ]
  }
 ],
 "metadata": {
  "kernelspec": {
   "display_name": "NetworkAttackSimulator",
   "language": "python",
   "name": "nasim"
  },
  "language_info": {
   "codemirror_mode": {
    "name": "ipython",
    "version": 3
   },
   "file_extension": ".py",
   "mimetype": "text/x-python",
   "name": "python",
   "nbconvert_exporter": "python",
   "pygments_lexer": "ipython3",
   "version": "3.8.20"
  }
 },
 "nbformat": 4,
 "nbformat_minor": 5
}
