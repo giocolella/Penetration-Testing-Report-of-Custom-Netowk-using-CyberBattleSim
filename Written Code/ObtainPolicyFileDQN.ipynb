{
 "cells": [
  {
   "cell_type": "code",
   "execution_count": 3,
   "id": "73279083-4a50-47b2-a942-fefe40c20d03",
   "metadata": {},
   "outputs": [],
   "source": [
    "import nasim\n",
    "from nasim.agents.dqn_agent import DQNAgent\n",
    "\n",
    "yaml_path = \"medium_with_honeypot.yaml\" \n",
    "env = nasim.load(yaml_path, fully_obs=True, flat_actions=True, flat_obs=True, render_mode=None)\n",
    "\n",
    "dqn_agent = DQNAgent(env,\n",
    "                 seed=100,\n",
    "                 lr=0.01,\n",
    "                 training_steps=50000,\n",
    "                 batch_size=64,\n",
    "                 replay_size=50000,\n",
    "                 final_epsilon=0.01,\n",
    "                 exploration_steps=20000,\n",
    "                 gamma=0.99,\n",
    "                 hidden_sizes=[256, 256],\n",
    "                 target_update_freq=1000,\n",
    "                 verbose=False)\n",
    "\n",
    "dqn_agent.train()\n",
    "\n",
    "dqn_agent.save(\"dqn_medium_with_honeypot.pt\")"
   ]
  }
 ],
 "metadata": {
  "kernelspec": {
   "display_name": "NetworkAttackSimulator",
   "language": "python",
   "name": "nasim"
  },
  "language_info": {
   "codemirror_mode": {
    "name": "ipython",
    "version": 3
   },
   "file_extension": ".py",
   "mimetype": "text/x-python",
   "name": "python",
   "nbconvert_exporter": "python",
   "pygments_lexer": "ipython3",
   "version": "3.8.20"
  }
 },
 "nbformat": 4,
 "nbformat_minor": 5
}
