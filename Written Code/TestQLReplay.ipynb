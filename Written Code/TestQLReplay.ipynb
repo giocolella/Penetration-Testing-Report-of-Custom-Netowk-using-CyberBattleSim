{
 "cells": [
  {
   "cell_type": "code",
   "execution_count": null,
   "id": "cda1ba95-28d9-4569-939f-d1ffaa2a3beb",
   "metadata": {},
   "outputs": [],
   "source": [
    "import nasim\n",
    "from nasim.agents.ql_replay_agent import *\n",
    "\n",
    "class GymObsCompatWrapper:\n",
    "    def __init__(self, env):\n",
    "        self.env = env\n",
    "    def reset(self, **kwargs):\n",
    "        obs = self.env.reset(**kwargs)\n",
    "        if isinstance(obs, tuple):\n",
    "            return obs[0]  \n",
    "        return obs\n",
    "    def step(self, action):\n",
    "        res = self.env.step(action)\n",
    "        if isinstance(res[0], tuple):\n",
    "            obs = res[0][0]  \n",
    "            rest = res[1:]\n",
    "            return (obs, *rest)\n",
    "        else:\n",
    "            return res\n",
    "    def __getattr__(self, x):\n",
    "        return getattr(self.env, x)\n",
    "\n",
    "yaml_path = \"medium_with_honeypot.yaml\" \n",
    "env = nasim.load(yaml_path, fully_obs=True, flat_actions=True, flat_obs=True, render_mode=None)\n",
    "env = GymObsCompatWrapper(env)\n",
    "ql_agent = TabularQLearningAgent(env,\n",
    "                 seed=100,\n",
    "                 lr=0.001,\n",
    "                 training_steps=2000,\n",
    "                 batch_size=64,\n",
    "                 replay_size=10000,\n",
    "                 final_epsilon=0.01,\n",
    "                 exploration_steps=10000,\n",
    "                 gamma=0.99,\n",
    "                 verbose=False)\n",
    "\n",
    "\n",
    "ql_agent.train()\n",
    "\n",
    "episode_return, steps, done = ql_agent.run_eval_episode(env,\n",
    "                         render=False,\n",
    "                         eval_epsilon=0.01,\n",
    "                         render_mode=\"readable\")\n",
    "print(episode_return)\n",
    "print(steps)\n",
    "print(done)"
   ]
  }
 ],
 "metadata": {
  "kernelspec": {
   "display_name": "NetworkAttackSimulator",
   "language": "python",
   "name": "nasim"
  },
  "language_info": {
   "codemirror_mode": {
    "name": "ipython",
    "version": 3
   },
   "file_extension": ".py",
   "mimetype": "text/x-python",
   "name": "python",
   "nbconvert_exporter": "python",
   "pygments_lexer": "ipython3",
   "version": "3.8.20"
  }
 },
 "nbformat": 4,
 "nbformat_minor": 5
}
